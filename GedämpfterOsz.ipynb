{
 "cells": [
  {
   "cell_type": "code",
   "execution_count": 1,
   "id": "35cb4e25-fb4e-4bbe-8183-842f59a43ef9",
   "metadata": {},
   "outputs": [],
   "source": [
    "import numpy as np\n",
    "import matplotlib.pyplot as plt\n",
    "from ipywidgets import interact"
   ]
  },
  {
   "cell_type": "code",
   "execution_count": 2,
   "id": "04c9ade6-9a8e-4e14-8cef-1dbd83bfd26a",
   "metadata": {},
   "outputs": [],
   "source": [
    "t = np.linspace(0,10,1024)"
   ]
  },
  {
   "cell_type": "markdown",
   "id": "72719678-5859-4d90-9043-b087c250a3f3",
   "metadata": {},
   "source": [
    "# Schwingfall"
   ]
  },
  {
   "cell_type": "code",
   "execution_count": 24,
   "id": "d19e112f-0a87-4a74-8f19-d0eb437731ba",
   "metadata": {
    "scrolled": true
   },
   "outputs": [
    {
     "data": {
      "application/vnd.jupyter.widget-view+json": {
       "model_id": "2b40350334d84d2abf094d5d3b3baff9",
       "version_major": 2,
       "version_minor": 0
      },
      "text/plain": [
       "interactive(children=(FloatSlider(value=1.0, description='gamma', max=2.0, step=0.01), FloatSlider(value=6.0, …"
      ]
     },
     "metadata": {},
     "output_type": "display_data"
    },
    {
     "data": {
      "text/plain": [
       "<function __main__.schwingfall(gamma, omega)>"
      ]
     },
     "execution_count": 24,
     "metadata": {},
     "output_type": "execute_result"
    }
   ],
   "source": [
    "\n",
    "def schwingfall(gamma, omega):\n",
    "    x = np.exp(-gamma*t)*np.cos(np.sqrt(omega**2-gamma**2)*t)\n",
    "    plt.plot(t,x)\n",
    "\n",
    "interact(schwingfall, gamma=(0,2,.01), omega=(2,10,.01))"
   ]
  },
  {
   "cell_type": "markdown",
   "id": "873ab095-e62f-469f-8c89-8b7aeb103c8b",
   "metadata": {},
   "source": [
    "# Kriechfall"
   ]
  },
  {
   "cell_type": "code",
   "execution_count": 11,
   "id": "66a92e32-e806-42f0-80a0-4a2b1b234d53",
   "metadata": {},
   "outputs": [
    {
     "data": {
      "application/vnd.jupyter.widget-view+json": {
       "model_id": "00763e7c3d164c3bb0676ca3dc7999a5",
       "version_major": 2,
       "version_minor": 0
      },
      "text/plain": [
       "interactive(children=(FloatSlider(value=6.0, description='gamma', max=10.0, min=2.0, step=0.01), FloatSlider(v…"
      ]
     },
     "metadata": {},
     "output_type": "display_data"
    },
    {
     "data": {
      "text/plain": [
       "<function __main__.kriechfall(gamma, omega)>"
      ]
     },
     "execution_count": 11,
     "metadata": {},
     "output_type": "execute_result"
    }
   ],
   "source": [
    "\n",
    "def kriechfall(gamma, omega):\n",
    "    x = np.exp(-gamma*t)*np.cosh(np.sqrt(gamma**2-omega**2)*t)\n",
    "    plt.plot(t,x)\n",
    "    plt.ylim(0,)\n",
    "\n",
    "interact(kriechfall, gamma=(2,10,.01), omega=(0,2,.01))"
   ]
  },
  {
   "cell_type": "markdown",
   "id": "098054ad-197f-49ee-a0b7-4582395764bf",
   "metadata": {},
   "source": [
    "# Angetriebener Osc"
   ]
  },
  {
   "cell_type": "code",
   "execution_count": 23,
   "id": "3d461aca-9c4d-4024-86d0-30503f2592f2",
   "metadata": {},
   "outputs": [
    {
     "data": {
      "application/vnd.jupyter.widget-view+json": {
       "model_id": "d8a457d851154f36b4bf18b1ce5f6044",
       "version_major": 2,
       "version_minor": 0
      },
      "text/plain": [
       "interactive(children=(FloatSlider(value=1.0, description='omega', max=2.0, step=0.01), FloatSlider(value=0.5, …"
      ]
     },
     "metadata": {},
     "output_type": "display_data"
    },
    {
     "data": {
      "text/plain": [
       "<function __main__.ao(omega, gamma)>"
      ]
     },
     "execution_count": 23,
     "metadata": {},
     "output_type": "execute_result"
    }
   ],
   "source": [
    "def ao(omega, gamma):\n",
    "    oo = (omega - 1)**2 \n",
    "    og = omega*gamma\n",
    "    x = oo/(oo**2 + 4*og**2)*np.cos(omega*t) + 2*og/(oo**2 + 4*og**2)*np.sin(omega*t)\n",
    "    plt.plot(t,x)\n",
    "    plt.ylim(-10,10)\n",
    "\n",
    "interact(ao, gamma=(0.01,1,.01), omega=(0,2,.01))"
   ]
  },
  {
   "cell_type": "code",
   "execution_count": null,
   "id": "aa32bbc1-1cdf-4941-9996-e8fee51634f6",
   "metadata": {},
   "outputs": [],
   "source": [
    " "
   ]
  }
 ],
 "metadata": {
  "kernelspec": {
   "display_name": "Python 3 (ipykernel)",
   "language": "python",
   "name": "python3"
  },
  "language_info": {
   "codemirror_mode": {
    "name": "ipython",
    "version": 3
   },
   "file_extension": ".py",
   "mimetype": "text/x-python",
   "name": "python",
   "nbconvert_exporter": "python",
   "pygments_lexer": "ipython3",
   "version": "3.12.2"
  }
 },
 "nbformat": 4,
 "nbformat_minor": 5
}
