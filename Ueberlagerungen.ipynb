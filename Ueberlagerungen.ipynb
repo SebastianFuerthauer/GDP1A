{
 "cells": [
  {
   "cell_type": "code",
   "execution_count": 34,
   "id": "60287a0c-15bb-4a9c-b0f7-7a0f5879e59d",
   "metadata": {},
   "outputs": [],
   "source": [
    "import numpy as np\n",
    "import matplotlib.pyplot as plt\n",
    "from ipywidgets import interact"
   ]
  },
  {
   "cell_type": "code",
   "execution_count": 88,
   "id": "fe527a3d-676d-42f2-8f5f-1a6dc6003485",
   "metadata": {},
   "outputs": [],
   "source": [
    "t = np.linspace(0,20*np.pi,2056)\n",
    "tt = t / 2/np.pi\n"
   ]
  },
  {
   "cell_type": "markdown",
   "id": "679fbcdb-4533-43f1-81bd-5f4e3801efb8",
   "metadata": {},
   "source": [
    "# Überlagerungen gleicher Frequenzen"
   ]
  },
  {
   "cell_type": "code",
   "execution_count": 87,
   "id": "4cec2443-f489-42ee-b24e-2b1794cf721d",
   "metadata": {},
   "outputs": [
    {
     "data": {
      "application/vnd.jupyter.widget-view+json": {
       "model_id": "583973996fa441969c8cd74372e8d67f",
       "version_major": 2,
       "version_minor": 0
      },
      "text/plain": [
       "interactive(children=(FloatSlider(value=3.141592653589793, description='phi', max=6.283185307179586), FloatSli…"
      ]
     },
     "metadata": {},
     "output_type": "display_data"
    },
    {
     "data": {
      "text/plain": [
       "<function __main__.f(phi, b)>"
      ]
     },
     "execution_count": 87,
     "metadata": {},
     "output_type": "execute_result"
    }
   ],
   "source": [
    "def f(phi, b):\n",
    "    x1 = np.cos(t)\n",
    "    x2 = b* np.cos(t+phi)\n",
    "    plt.subplot(311)\n",
    "    plt.plot(tt, x1+x2)\n",
    "    plt.ylim(-2,2)\n",
    "    plt.subplot(312)\n",
    "    plt.plot(tt, x1, 'r--')\n",
    "    plt.plot(tt, x2, 'b--')\n",
    "\n",
    "\n",
    "\n",
    "Überlagerungen verschiedener Frequenzen\n",
    "interact(f, phi=(0,2*np.pi), b=(0,1,.01))"
   ]
  },
  {
   "cell_type": "markdown",
   "id": "786b4639-9186-4eea-b326-3e892242914f",
   "metadata": {},
   "source": [
    "# Überlagerungen verschiedener Frequenzen"
   ]
  },
  {
   "cell_type": "code",
   "execution_count": 86,
   "id": "d7cb0766-1cff-46e2-ac92-c514f461710f",
   "metadata": {},
   "outputs": [
    {
     "data": {
      "application/vnd.jupyter.widget-view+json": {
       "model_id": "bdbbfda4ab8b41edafa0c21ac2ee1fa7",
       "version_major": 2,
       "version_minor": 0
      },
      "text/plain": [
       "interactive(children=(FloatSlider(value=1.0, description='ff', max=1.5, min=0.5, step=0.001), FloatSlider(valu…"
      ]
     },
     "metadata": {},
     "output_type": "display_data"
    },
    {
     "data": {
      "text/plain": [
       "<function __main__.fo(ff, phi)>"
      ]
     },
     "execution_count": 86,
     "metadata": {},
     "output_type": "execute_result"
    }
   ],
   "source": [
    "def fo(ff, phi):\n",
    "    x1 = np.cos(t)\n",
    "    x2 = np.cos(ff*t +phi)\n",
    "    plt.subplot(311)\n",
    "    plt.plot(tt, x1+x2)\n",
    "    plt.ylim(-2,2)\n",
    "    plt.subplot(312)\n",
    "    plt.plot(tt, x1, 'r--')\n",
    "    plt.plot(tt, x2, 'b--')\n",
    "\n",
    "\n",
    "interact(fo, ff=(0.5,1.5,.001), phi=(0.,2*np.pi,.001))"
   ]
  },
  {
   "cell_type": "markdown",
   "id": "2709a720-68c5-4485-b40b-473206d8b1f5",
   "metadata": {},
   "source": [
    "# Lissajou Figuren"
   ]
  },
  {
   "cell_type": "code",
   "execution_count": 71,
   "id": "b43d0091-b52a-4783-affe-14a01e85eb14",
   "metadata": {},
   "outputs": [
    {
     "data": {
      "application/vnd.jupyter.widget-view+json": {
       "model_id": "107c75f614084c9d969039c8402e8d23",
       "version_major": 2,
       "version_minor": 0
      },
      "text/plain": [
       "interactive(children=(FloatSlider(value=5.0, description='r', max=10.0, min=1.0), FloatSlider(value=1.57, desc…"
      ]
     },
     "metadata": {},
     "output_type": "display_data"
    },
    {
     "data": {
      "text/plain": [
       "<function __main__.liss(r, phi)>"
      ]
     },
     "execution_count": 71,
     "metadata": {},
     "output_type": "execute_result"
    }
   ],
   "source": [
    "def liss(r, phi):\n",
    "    x1 = np.cos(t)\n",
    "    x2 = np.cos(r*t+phi)\n",
    "    fig = plt.subplot(111)\n",
    "    plt.plot(x1,x2)\n",
    "    fig.set_aspect('equal')\n",
    "    \n",
    "\n",
    "interact(liss, r=(1,10,.1), phi=(0,np.pi,.001))"
   ]
  },
  {
   "cell_type": "markdown",
   "id": "d356a707-5bf2-422f-9ab0-7f3d28953320",
   "metadata": {},
   "source": [
    "# Fourier Reihen"
   ]
  },
  {
   "cell_type": "code",
   "execution_count": 79,
   "id": "26a78dbb-65bc-4a17-8341-38d07b002f42",
   "metadata": {},
   "outputs": [
    {
     "data": {
      "application/vnd.jupyter.widget-view+json": {
       "model_id": "7c07cf3d2dd842b19529864d1bed06f8",
       "version_major": 2,
       "version_minor": 0
      },
      "text/plain": [
       "interactive(children=(FloatSlider(value=0.0, description='a0', max=1.0, min=-1.0, step=0.01), FloatSlider(valu…"
      ]
     },
     "metadata": {},
     "output_type": "display_data"
    },
    {
     "data": {
      "text/plain": [
       "<function __main__.four(a0, a1, a2, a3, a4, b1, b2, b3, b4)>"
      ]
     },
     "execution_count": 79,
     "metadata": {},
     "output_type": "execute_result"
    }
   ],
   "source": [
    "def four(a0,a1,a2,a3,a4,b1,b2,b3,b4):\n",
    "    _t = np.linspace(0,2*np.pi,1024)\n",
    "    x = a0 * np.ones_like(_t)\n",
    "    x += a1 * np.cos(_t)\n",
    "    x += a2 * np.cos(2*_t)\n",
    "    x += a3 * np.cos(3*_t)\n",
    "    x += a4 * np.cos(4*_t)\n",
    "    x += b1 * np.sin(_t)\n",
    "    x += b2 * np.sin(2*_t)\n",
    "    x += b3 * np.sin(3*_t)\n",
    "    x += b4 * np.sin(4*_t)\n",
    "    \n",
    "    plt.plot(_t,x)\n",
    "    plt.ylim(-2,2)\n",
    "    plt.xlim(0,2*np.pi)\n",
    "\n",
    "\n",
    "interact(four, a0=(-1,1,.01),\n",
    "         a1=(-1,1,.01),\n",
    "         a2=(-1,1,.01),\n",
    "         a3=(-1,1,.01),\n",
    "         a4=(-1,1,.01),\n",
    "         b1=(-1,1,.01),\n",
    "         b2=(-1,1,.01),\n",
    "         b3=(-1,1,.01),\n",
    "         b4=(-1,1,.01))"
   ]
  },
  {
   "cell_type": "code",
   "execution_count": 76,
   "id": "bbc0b8bc-f7b2-40e3-9d9a-fa7a41088224",
   "metadata": {},
   "outputs": [
    {
     "data": {
      "application/vnd.jupyter.widget-view+json": {
       "model_id": "d818ba2863974adcbf2140859581b1b0",
       "version_major": 2,
       "version_minor": 0
      },
      "text/plain": [
       "interactive(children=(FloatSlider(value=0.0, description='a0', max=1.0, min=-1.0, step=0.01), FloatSlider(valu…"
      ]
     },
     "metadata": {},
     "output_type": "display_data"
    },
    {
     "data": {
      "text/plain": [
       "<function __main__.foure(a0, a1, a2, a3, a4, b1, b2, b3, b4)>"
      ]
     },
     "execution_count": 76,
     "metadata": {},
     "output_type": "execute_result"
    }
   ],
   "source": [
    "def foure(a0,a1,a2,a3,a4,b1,b2,b3,b4):\n",
    "    _t = np.linspace(0,2*np.pi,1024)\n",
    "    x = a0 * np.ones_like(_t)\n",
    "    x += a1 * np.cos(_t)\n",
    "    x += a2 * np.cos(2*_t)\n",
    "    x += a3 * np.cos(3*_t)\n",
    "    x += a4 * np.cos(4*_t)\n",
    "    x += b1 * np.cos(5*_t)\n",
    "    x += b2 * np.cos(6*_t)\n",
    "    x += b3 * np.cos(7*_t)\n",
    "    x += b4 * np.cos(8*_t)\n",
    "    \n",
    "    plt.plot(_t,x)\n",
    "    plt.ylim(-2,2)\n",
    "    plt.xlim(0,2*np.pi)\n",
    "\n",
    "\n",
    "interact(foure, a0=(-1,1,.01),\n",
    "         a1=(-1,1,.01),\n",
    "         a2=(-1,1,.01),\n",
    "         a3=(-1,1,.01),\n",
    "         a4=(-1,1,.01),\n",
    "         b1=(-1,1,.01),\n",
    "         b2=(-1,1,.01),\n",
    "         b3=(-1,1,.01),\n",
    "         b4=(-1,1,.01))"
   ]
  },
  {
   "cell_type": "code",
   "execution_count": null,
   "id": "e6ea9e18-ab89-4552-959a-4fc56d93d7eb",
   "metadata": {},
   "outputs": [],
   "source": []
  }
 ],
 "metadata": {
  "kernelspec": {
   "display_name": "Python 3 (ipykernel)",
   "language": "python",
   "name": "python3"
  },
  "language_info": {
   "codemirror_mode": {
    "name": "ipython",
    "version": 3
   },
   "file_extension": ".py",
   "mimetype": "text/x-python",
   "name": "python",
   "nbconvert_exporter": "python",
   "pygments_lexer": "ipython3",
   "version": "3.12.2"
  }
 },
 "nbformat": 4,
 "nbformat_minor": 5
}
